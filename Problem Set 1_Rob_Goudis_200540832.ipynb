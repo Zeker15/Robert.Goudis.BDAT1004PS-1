{
 "cells": [
  {
   "cell_type": "markdown",
   "id": "10e88ff3",
   "metadata": {},
   "source": [
    "Question 1. What data type is each of the following (evaluate where necessary)? "
   ]
  },
  {
   "cell_type": "markdown",
   "id": "b2b0f9e8",
   "metadata": {},
   "source": [
    "5 - int\n",
    "\n",
    "5.0 - float\n",
    "\n",
    "5 > 1 - boolean\n",
    "\n",
    "'5' - char\n",
    "\n",
    "5 * 2 - int\n",
    "\n",
    "'5' * 2 - int\n",
    "\n",
    "'5' + '2' - int\n",
    "\n",
    "5 / 2 - int\n",
    "\n",
    "5 % 2 - int\n",
    "\n",
    "{5, 2, 1,} - int, array\n",
    "\n",
    "5 == 3 - boolean\n",
    "\n",
    "Pi (the number) - float"
   ]
  },
  {
   "cell_type": "markdown",
   "id": "57d2d58d",
   "metadata": {},
   "source": [
    "Question 2 Write (and evaluate) python expressions that answer these questions:\n",
    "    A). How many letters are there in 'Supercalifragilisticexpialidocious'?"
   ]
  },
  {
   "cell_type": "code",
   "execution_count": 12,
   "id": "909a2e1f",
   "metadata": {},
   "outputs": [
    {
     "name": "stdout",
     "output_type": "stream",
     "text": [
      "34\n"
     ]
    }
   ],
   "source": [
    "str = \"Supercalifragilisticexpialidocious\"\n",
    "print (len(str))"
   ]
  },
  {
   "cell_type": "markdown",
   "id": "c98d8f56",
   "metadata": {},
   "source": [
    "Question 2 (B) Does 'Supercalifragilisticexpialidocious' contain 'ice' as a substring? "
   ]
  },
  {
   "cell_type": "code",
   "execution_count": 14,
   "id": "2e055772",
   "metadata": {},
   "outputs": [
    {
     "name": "stdout",
     "output_type": "stream",
     "text": [
      "True\n"
     ]
    }
   ],
   "source": [
    "str = \"Supercalifragilisticexpialidocious\"\n",
    "print (str!=\"ice\")"
   ]
  },
  {
   "cell_type": "markdown",
   "id": "22ab5fce",
   "metadata": {},
   "source": [
    "Question 3. Implement function triangleArea(a,b,c) that takes as input the lengths of the 3 sides of a triangle and returns the area of the triangle. By Heron's formula, the area of a triangle with side lengths a, b, and c is   s(s-a)(s-b)(s-c), where   s=(a+b+c)/2.  "
   ]
  },
  {
   "cell_type": "code",
   "execution_count": 27,
   "id": "07973d87",
   "metadata": {},
   "outputs": [
    {
     "name": "stdout",
     "output_type": "stream",
     "text": [
      "Enter first side: 2\n",
      "Enter second side: 2\n",
      "Enter third side: 2\n",
      "The area of the triangle is 1.7320508075688772\n"
     ]
    }
   ],
   "source": [
    "a = int(input('Enter first side: '))  \n",
    "b = int(input('Enter second side: '))  \n",
    "c = int(input('Enter third side: '))  \n",
    "  \n",
    "s = (a + b + c) / 2  \n",
    "      \n",
    "area = (s*(s-a)*(s-b)*(s-c)) **.5\n",
    "print('The area of the triangle is %0.16f' %area) "
   ]
  },
  {
   "cell_type": "markdown",
   "id": "feb145d8",
   "metadata": {},
   "source": [
    "Python area of triangle - javatpoint. www.javatpoint.com. (n.d.). Retrieved January 30, 2023, from https://www.javatpoint.com/python-area-of-triangle "
   ]
  },
  {
   "cell_type": "markdown",
   "id": "d2f9b898",
   "metadata": {},
   "source": [
    "Question 4. Write a program in python to separate odd and even integers in separate arrays."
   ]
  },
  {
   "cell_type": "code",
   "execution_count": 57,
   "id": "5521551e",
   "metadata": {},
   "outputs": [
    {
     "name": "stdout",
     "output_type": "stream",
     "text": [
      "Even elements are:  [42, 56, 32]\n",
      "Odd elements are:  [25, 47]\n"
     ]
    }
   ],
   "source": [
    "lst = [25, 47, 42, 56, 32]\n",
    "\n",
    "even_num = []\n",
    "\n",
    "odd_num = []\n",
    " \n",
    "for num in lst:\n",
    " \n",
    "    if (num % 2 == 0):\n",
    "        even_num.append(num)\n",
    " \n",
    "    else:\n",
    "        odd_num.append(num)\n",
    " \n",
    "print(\"Even elements are: \", even_num)\n",
    "print(\"Odd elements are: \", odd_num)"
   ]
  },
  {
   "cell_type": "markdown",
   "id": "eea7da42",
   "metadata": {},
   "source": [
    "Question 5(a). Write a function inside(x,y,x1,y1,x2,y2) that returns True or False depending on whether the point (x,y) lies in the rectangle with lower left corner (x1,y1) and upper right corner (x2,y2)."
   ]
  },
  {
   "cell_type": "code",
   "execution_count": 69,
   "id": "32011045",
   "metadata": {},
   "outputs": [
    {
     "name": "stdout",
     "output_type": "stream",
     "text": [
      "No\n"
     ]
    }
   ],
   "source": [
    "def Point(x1, y1, x2,\n",
    "              y2, x, y) :\n",
    "    if (x > x1 and x < x2 and\n",
    "        y > y1 and y < y2) :\n",
    "        return True\n",
    "    else :\n",
    "        return False\n",
    " \n",
    "if __name__ == \"__main__\" :\n",
    " \n",
    "    x1 , y1 , x2 , y2 = 1, 1, 0, 0\n",
    " \n",
    "    x, y = 2, 3\n",
    " \n",
    "    if Point(x1, y1, x2,\n",
    "                 y2, x, y) :\n",
    "        print(\"Yes\")\n",
    "    else :\n",
    "        print(\"No\")"
   ]
  },
  {
   "cell_type": "markdown",
   "id": "a755792b",
   "metadata": {},
   "source": [
    "Python area of triangle - javatpoint. www.javatpoint.com. (n.d.). Retrieved January 30, 2023, from https://www.javatpoint.com/python-area-of-triangle \n",
    "GeeksforGeeks. (2022, August 18). Check if a point lies inside a rectangle: Set-2. GeeksforGeeks. Retrieved January 30, 2023, from https://www.geeksforgeeks.org/check-if-a-point-lies-on-or-inside-a-rectangle-set-2/ "
   ]
  },
  {
   "cell_type": "markdown",
   "id": "af9311a0",
   "metadata": {},
   "source": [
    "Question 5(b). Use function inside() from part a. to write an expression that tests whether the point (1,1) lies in both of the following rectangles: one with lower left corner (0.3, 0.5) and upper right corner (1.1, 0.7) and the other with lower left corner (0.5, 0.2) and upper right corner (1.1, 2)."
   ]
  },
  {
   "cell_type": "code",
   "execution_count": 75,
   "id": "5e904df6",
   "metadata": {},
   "outputs": [
    {
     "name": "stdout",
     "output_type": "stream",
     "text": [
      "No\n",
      "No\n"
     ]
    }
   ],
   "source": [
    "def Point(x1, y1, x2,\n",
    "              y2, x, y) :\n",
    "    if (x > x1 and x < x2 and\n",
    "        y > y1 and y < y2) :\n",
    "        return True\n",
    "    else :\n",
    "        return False\n",
    "    \n",
    "def Point2(a1, b1, a2,\n",
    "              b2, a, b) :\n",
    "    if (a > a1 and a < a2 and\n",
    "        b > b1 and b < b2) :\n",
    "        return True\n",
    "    else :\n",
    "        return False\n",
    " \n",
    "if __name__ == \"__main__\" :\n",
    " \n",
    "    x1 , y1 , x2 , y2 = 0.3, 0.5, 1.1, 0.7\n",
    " \n",
    "    x, y = 1, 1\n",
    "    \n",
    "    a1 , b1 , a2, b2 = 0.5, 0.2, 1.1, 2\n",
    " \n",
    "    if Point(x1, y1, x2,\n",
    "                 y2, x, y) :\n",
    "        print(\"Yes\")\n",
    "    else :\n",
    "        print(\"No\")\n",
    "        \n",
    "        if Point2(a1, b1, a2,\n",
    "                 b2, a, b) :\n",
    "            print(\"Yes\")\n",
    "        else :\n",
    "            print(\"No\")"
   ]
  },
  {
   "cell_type": "markdown",
   "id": "da75f8d2",
   "metadata": {},
   "source": [
    "Question 6. You can turn a word into pig-Latin using the following two rules (simplified): • If the word starts with a consonant, move that letter to the end and append 'ay'. For example, 'happy' becomes 'appyhay' and 'pencil' becomes 'encilpay'. • If the word starts with a vowel, simply append 'way' to the end of the word. For example, 'enter' becomes 'enterway' and 'other' becomes 'otherway' . For our purposes, there are 5 vowels: a, e, i, o, u (so we count y as a consonant). Write a function pig() that takes a word (i.e., a string) as input and returns its pigLatin form. Your function should still work if the input word contains upper case characters. Your output should always be lower case however. "
   ]
  },
  {
   "cell_type": "code",
   "execution_count": 4,
   "id": "efe0e594",
   "metadata": {},
   "outputs": [
    {
     "name": "stdout",
     "output_type": "stream",
     "text": [
      "Enter word: apple Enter\n",
      "Pig Latin:  appleway enterway\n"
     ]
    }
   ],
   "source": [
    "sentence = input('Enter word: ').lower()\n",
    "words = sentence.split()\n",
    "\n",
    "for x, word in enumerate(words):\n",
    "     \n",
    "     \n",
    "    if word[0] in 'aeiou':\n",
    "        words[x] = words[x]+ \"way\"\n",
    "    else:\n",
    "        \n",
    "        has_vowel = False\n",
    "        \n",
    "        for y, letter in enumerate(word):\n",
    "            if letter in 'aeiou':\n",
    "                words[x] = word[y:] + word[:y] + \"ay\"\n",
    "                has_vowel = True\n",
    "                break\n",
    "            \n",
    "        if(has_vowel == False):\n",
    "            words[x] = words[x]+ \"ay\"\n",
    "        \n",
    "pig_latin = ' '.join(words)\n",
    "print(\"Pig Latin: \",pig_latin)"
   ]
  },
  {
   "cell_type": "markdown",
   "id": "8c458299",
   "metadata": {},
   "source": [
    "Question 7. File bloodtype1.txt records blood-types of patients (A, B, AB, O or OO) at a clinic. Write a function bldcount() that reads the file with name name and reports (i.e., prints) how many patients there are in each bloodtype."
   ]
  },
  {
   "cell_type": "code",
   "execution_count": 8,
   "id": "99d784fa",
   "metadata": {},
   "outputs": [
    {
     "name": "stdout",
     "output_type": "stream",
     "text": [
      "Enter filename: C:\\Users\\robgo\\Downloads\\bloodtype1.txt\n",
      "There are 15 patients with blood type A.\n",
      "There is one patient of blood type B.\n",
      "There are 13 patients with blood type AB.\n",
      "There are 15 patients with blood type O.\n"
     ]
    }
   ],
   "source": [
    "def bldcount(filename):\n",
    "    try:\n",
    "        with open(filename, 'r') as f:\n",
    "            o_count, a_count, b_count, ab_count, oo_count = 0, 0, 0, 0, 0\n",
    "            for line in f:\n",
    "                    words = line.strip().upper().split()\n",
    "                    for blood in words:\n",
    "                        if blood == 'O':\n",
    "                            o_count += 1\n",
    "                        if blood == 'A':\n",
    "                            a_count += 1\n",
    "                        if blood == 'B':\n",
    "                            b_count += 1\n",
    "                        if blood == 'AB':\n",
    "                            ab_count += 1\n",
    "                        if blood == 'O':\n",
    "                            oo_count += 1\n",
    "                    if a_count == 0:\n",
    "                        print(\"There are no patients of blood type A.\")\n",
    "                    elif a_count == 1:\n",
    "                        print(\"There is one patient of blood type A.\")\n",
    "                    else:\n",
    "                        print(\"There are {} patients with blood type A.\".format(a_count))\n",
    "\n",
    "                    if b_count == 0:\n",
    "                        print(\"There are no patients of blood type B.\")\n",
    "                    elif b_count == 1:\n",
    "                        print(\"There is one patient of blood type B.\")\n",
    "                    else:\n",
    "                        print(\"There are {} patients with blood type B.\".format(b_count))\n",
    "                    if ab_count == 0:\n",
    "                        print(\"There are no patients of blood type AB.\")\n",
    "                    elif ab_count == 1:\n",
    "                        print(\"There is one patient of blood type AB.\")\n",
    "                    else:\n",
    "                        print(\"There are {} patients with blood type AB.\".format(ab_count))\n",
    "                    if o_count == 0:\n",
    "                        print(\"There are no patients of blood type O.\")\n",
    "                    elif o_count == 1:\n",
    "                        print(\"There is one patient of blood type O.\")\n",
    "                    else:\n",
    "                        print(\"There are {} patients with blood type O.\".format(o_count))\n",
    "    except FileNotFoundError:\n",
    "        print(filename + \" does not exists!\")\n",
    "        \n",
    "filename = input(\"Enter filename: \")\n",
    "bldcount(filename)"
   ]
  },
  {
   "cell_type": "markdown",
   "id": "1fcfd31f",
   "metadata": {},
   "source": [
    "Question 8. Write a function curconv() that takes as input:\n",
    "1. a currency represented using a string (e.g., 'JPY' for the Japanese Yen or 'EUR' for the Euro)\n",
    "2. an amount\n",
    "and then converts and returns the amount in US dollars."
   ]
  },
  {
   "cell_type": "code",
   "execution_count": 11,
   "id": "2f2f171a",
   "metadata": {},
   "outputs": [
    {
     "name": "stdout",
     "output_type": "stream",
     "text": [
      "Enter filename: \"C:\\Users\\robgo\\Downloads\\currencies.txt\"\n",
      "122.96544\n",
      "1.241401\n"
     ]
    }
   ],
   "source": [
    "def curconv(a,b):\n",
    "    ans=0\n",
    "    l=['AUD','CHF','CNY','DKK','EUR','GBP','HKD','INR','JPY','MXN','MYR','NOK','NZD','PHP','SEK','SGD','THB']\n",
    "    l1=[1.0345157,1.0237414,0.1550176,0.1651442,1.2296544,1.5550989,0.1270207,0.0177643,0.01241401,0.0751848,\\\n",
    "                0.3145411,0.1677063,0.8003591,0.0233234,0.148269,0.788871,0.0313789]\n",
    "    for i in range(len(l)):\n",
    "        if(l[i]==a):\n",
    "            ans=b*l1[i]\n",
    "            break\n",
    "    return ans\n",
    "filename = input(\"Enter filename: \")\n",
    "print(curconv(\"EUR\",100))\n",
    "print(curconv(\"JPY\",100))"
   ]
  },
  {
   "cell_type": "markdown",
   "id": "43ce120b",
   "metadata": {},
   "source": [
    "Question 9. Each of the following will cause an exception (an error). Identify what type of exception each will cause."
   ]
  },
  {
   "cell_type": "markdown",
   "id": "12b38608",
   "metadata": {},
   "source": [
    "Trying to add incompatible variables, as in\n",
    "adding 6 + ‘a’ - This would be a TypeError.\n",
    "\n",
    "Referring to the 12\n",
    "th item of a list that has only 10 \n",
    "items - - This would be an IndexError.\n",
    "\n",
    "Using a value that is out of range for a functi\n",
    "on’s \n",
    "input, such as calling math.sqrt( 1.0) - - This would be a ValueError.\n",
    "\n",
    "Using an undeclared variable, such as\n",
    "p rint(x) \n",
    "when x has not been defined - - This would be a NameError.\n",
    "\n",
    "Trying to open a file that does not exist, such as\n",
    "mistyping the file name or looking in the wrong\n",
    "directory. - This would be an IOError."
   ]
  },
  {
   "cell_type": "markdown",
   "id": "584cf06c",
   "metadata": {},
   "source": [
    "Question 10. Encryption is the process of hiding the meaning of a text by substituting letters in the message\n",
    "with other letters, according to some system. If the process is successful, no one but the\n",
    "intended recipient can understand the encrypted message. Cryptanalysis refers to attempts to\n",
    "undo the encryption, even if some details of the encryption are unknown (for example, if an\n",
    "encrypted message has been intercepted). The first step of cryptanalysis is often to build up a\n",
    "table of letter frequencies in the encrypted text.\n",
    "Assume that the string letters is already defined\n",
    "as\n",
    "' abcdef ghi j klmnopq rst uvWxyz ' . Write a function called frequencies ( ) that takes a string\n",
    "as its only parameter, and returns a list of integers, showing the number of times each character\n",
    "appears in the text. Your function may ignore any characters that are not in letters."
   ]
  },
  {
   "cell_type": "code",
   "execution_count": 9,
   "id": "fc9e5a0b",
   "metadata": {},
   "outputs": [
    {
     "name": "stdout",
     "output_type": "stream",
     "text": [
      "[1, 1, 1, 3, 5, 1, 1, 2, 1, 0, 1, 0, 1, 2, 4, 0, 1, 2, 0, 2, 1, 0, 1, 1, 0, 0]\n",
      "[1, 0, 0, 0, 1, 0, 0, 0, 0, 0, 0, 1, 0, 0, 0, 2, 0, 0, 0, 0, 0, 0, 0, 0, 0, 0]\n"
     ]
    }
   ],
   "source": [
    "def frequencies(string):\n",
    "    \n",
    "    letters = 'abcdefghijklmnopqrstuvwxyz'\n",
    "    my_dict = {'a':0, 'b':0, 'c':0, 'd':0, 'e':0, 'f':0, 'g':0, 'h':0,\\\n",
    "                    'i':0, 'j':0, 'k':0, 'l':0, 'm':0, 'n':0, 'o':0, 'p':0, 'q':0,\\\n",
    "                    'r':0, 's':0, 't':0, 'u':0, 'v':0, 'w':0, 'x':0, 'y':0, 'z':0}\n",
    "    for i in string:\n",
    "        \n",
    "        if(i in letters):\n",
    "            my_dict[i] += 1\n",
    "\n",
    "    my_list = []\n",
    "\n",
    "    for i in my_dict.values():\n",
    "\n",
    "        my_list.append(i)\n",
    "        \n",
    "    return my_list\n",
    "\n",
    "print(frequencies('The quick red fox got bored and went home.'))\n",
    "print(frequencies('apple'))"
   ]
  }
 ],
 "metadata": {
  "kernelspec": {
   "display_name": "Python 3 (ipykernel)",
   "language": "python",
   "name": "python3"
  },
  "language_info": {
   "codemirror_mode": {
    "name": "ipython",
    "version": 3
   },
   "file_extension": ".py",
   "mimetype": "text/x-python",
   "name": "python",
   "nbconvert_exporter": "python",
   "pygments_lexer": "ipython3",
   "version": "3.9.13"
  }
 },
 "nbformat": 4,
 "nbformat_minor": 5
}
